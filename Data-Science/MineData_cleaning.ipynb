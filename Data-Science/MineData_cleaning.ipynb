{
 "cells": [
  {
   "cell_type": "code",
   "execution_count": null,
   "id": "c41bc9a6",
   "metadata": {},
   "outputs": [],
   "source": [
    "import pandas as pd;\n",
    "df = pd.read_csv('Mine.csv')\n",
    "print(df)"
   ]
  },
  {
   "cell_type": "code",
   "execution_count": null,
   "id": "d023f98c",
   "metadata": {},
   "outputs": [],
   "source": [
    "# Empty Cells\n",
    "# Approach: Removing Rows\n",
    "df.dropna(inplace=True)\n",
    "print(df.to_string)"
   ]
  },
  {
   "cell_type": "code",
   "execution_count": null,
   "id": "0829b5ab",
   "metadata": {},
   "outputs": [],
   "source": [
    "# inconsistent Date formats\n",
    "# Approach: Converting to Correct Format\n",
    "df['Date'] = pd.to_datetime(df['Date'], format='mixed')\n",
    "\n",
    "print(df.to_string())"
   ]
  },
  {
   "cell_type": "code",
   "execution_count": null,
   "id": "b615cf8b",
   "metadata": {},
   "outputs": [],
   "source": [
    "# Duplicate rows\n",
    "# 1. First check if there are duplicates\n",
    "# Approach: Removing the duplicates.\n",
    "print(df.duplicated())\n"
   ]
  },
  {
   "cell_type": "code",
   "execution_count": null,
   "id": "a4b5e031",
   "metadata": {},
   "outputs": [],
   "source": [
    "# Wrong Data\n"
   ]
  },
  {
   "cell_type": "code",
   "execution_count": null,
   "id": "09ff5cbe",
   "metadata": {},
   "outputs": [],
   "source": [
    "# unnecessary columns"
   ]
  }
 ],
 "metadata": {
  "kernelspec": {
   "display_name": "base",
   "language": "python",
   "name": "python3"
  },
  "language_info": {
   "codemirror_mode": {
    "name": "ipython",
    "version": 3
   },
   "file_extension": ".py",
   "mimetype": "text/x-python",
   "name": "python",
   "nbconvert_exporter": "python",
   "pygments_lexer": "ipython3",
   "version": "3.12.7"
  }
 },
 "nbformat": 4,
 "nbformat_minor": 5
}
