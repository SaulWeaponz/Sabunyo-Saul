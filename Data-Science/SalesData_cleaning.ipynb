{
 "cells": [
  {
   "cell_type": "code",
   "execution_count": null,
   "id": "dc273aef",
   "metadata": {},
   "outputs": [],
   "source": [
    "import pandas as pd;\n",
    "sf = pd.read_csv('Sales.csv')\n",
    "print(sf)"
   ]
  },
  {
   "cell_type": "code",
   "execution_count": null,
   "id": "3e1bc0bb",
   "metadata": {},
   "outputs": [],
   "source": [
    "# Empty Cells\n",
    "# Approach: Replace empty cells\n",
    "sf.fillna({\"Quantity\":10}, inplace = True)\n",
    "sf.fillna({\"Unit Price\":25}, inplace = True)\n",
    "sf.fillna({\"Total Revenue\":200}, inplace = True)\n",
    "sf.fillna({\"Customer Name\": 'John Doe'}, inplace = True)\n",
    "print(sf)\n"
   ]
  },
  {
   "cell_type": "code",
   "execution_count": null,
   "id": "25779b43",
   "metadata": {},
   "outputs": [],
   "source": [
    "# Inconsitent Data Formats\n",
    "# Approach: Converting to correct format\n",
    "sf['Order Date'] = pd.to_datetime(sf['Order Date'], format='mixed')\n",
    "\n",
    "print(sf.to_string())"
   ]
  },
  {
   "cell_type": "code",
   "execution_count": null,
   "id": "13d95597",
   "metadata": {},
   "outputs": [],
   "source": [
    "# Duplicates\n",
    "# Check if Duplicates are present\n",
    "print(sf.duplicated())\n",
    "# remove the Duplicates\n",
    "sf.drop_duplicates(inplace = True)\n",
    "print(sf)"
   ]
  },
  {
   "cell_type": "code",
   "execution_count": null,
   "id": "43fc521d",
   "metadata": {},
   "outputs": [],
   "source": [
    "# Wrong Data\n",
    "# Approach: Removing Data\n",
    "for x in sf.index:\n",
    "  if sf.loc[x, \"Quantity\"] < 0:\n",
    "    sf.drop(x, inplace = True)\n",
    "print(sf)    "
   ]
  }
 ],
 "metadata": {
  "kernelspec": {
   "display_name": "base",
   "language": "python",
   "name": "python3"
  },
  "language_info": {
   "codemirror_mode": {
    "name": "ipython",
    "version": 3
   },
   "file_extension": ".py",
   "mimetype": "text/x-python",
   "name": "python",
   "nbconvert_exporter": "python",
   "pygments_lexer": "ipython3",
   "version": "3.12.7"
  }
 },
 "nbformat": 4,
 "nbformat_minor": 5
}
